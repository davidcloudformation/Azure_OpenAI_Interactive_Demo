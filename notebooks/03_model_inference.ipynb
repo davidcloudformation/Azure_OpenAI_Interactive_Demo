{
  "nbformat": 4,
  "nbformat_minor": 0,
  "metadata": {
    "colab": {
      "provenance": [],
      "toc_visible": true
    },
    "kernelspec": {
      "name": "python3",
      "display_name": "Python 3"
    },
    "language_info": {
      "name": "python"
    }
  },
  "cells": [
    {
      "cell_type": "markdown",
      "source": [
        "# Open AI Inference examples"
      ],
      "metadata": {
        "id": "MMfiJntFHwsc"
      }
    },
    {
      "cell_type": "markdown",
      "source": [
        "### Prerequisites\n",
        "\n",
        "#### Install the Azure OpenAI SDK:"
      ],
      "metadata": {
        "id": "Xe2eaAx6I6pO"
      }
    },
    {
      "cell_type": "code",
      "source": [
        "!pip install openai"
      ],
      "metadata": {
        "id": "wmsh-hP3I-d_"
      },
      "execution_count": null,
      "outputs": []
    },
    {
      "cell_type": "code",
      "source": [
        "# Import necessary libraries\n",
        "import openai\n",
        "import pandas as pd\n",
        "\n",
        "# Load preprocessed data\n",
        "data = pd.read_csv('../data/preprocessed_data.csv')\n",
        "\n",
        "# Set up OpenAI API\n",
        "openai.api_key = 'your-api-key'\n"
      ],
      "metadata": {
        "id": "LTlvwH17H3yZ"
      },
      "execution_count": null,
      "outputs": []
    },
    {
      "cell_type": "markdown",
      "source": [
        "## Example 1: Basic Text Completion\n",
        "\n",
        "#### This example demonstrates how to generate text using a prompt."
      ],
      "metadata": {
        "id": "8n_DUMxGH4Mw"
      }
    },
    {
      "cell_type": "code",
      "source": [
        "# Example 1: Basic Text Completion\n",
        "response = openai.Completion.create(\n",
        "  engine=\"davinci\",\n",
        "  prompt=\"Once upon a time\",\n",
        "  max_tokens=50\n",
        ")\n",
        "print(\"Example 1: Basic Text Completion\")\n",
        "print(response.choices[0].text.strip())"
      ],
      "metadata": {
        "id": "Tm45PeluH-Q3"
      },
      "execution_count": null,
      "outputs": []
    },
    {
      "cell_type": "markdown",
      "source": [
        "## Example 2: Few-shot Prompting\n",
        "\n",
        "#### This example shows how to provide a few examples to the model to improve its performance."
      ],
      "metadata": {
        "id": "LnikPebcHst8"
      }
    },
    {
      "cell_type": "code",
      "execution_count": null,
      "metadata": {
        "id": "V1YZKrrgHiRm"
      },
      "outputs": [],
      "source": [
        "# Example 2: Few-shot Prompting\n",
        "few_shot_prompt = \"\"\"\n",
        "Translate the following English text to French:\n",
        "\n",
        "English: Hello, how are you?\n",
        "French: Bonjour, comment ça va?\n",
        "\n",
        "English: What is your name?\n",
        "French: Quel est votre nom?\n",
        "\n",
        "English: I love programming.\n",
        "French: J'aime programmer.\n",
        "\n",
        "English: This is a test.\n",
        "French: Ceci est un test.\n",
        "\n",
        "English: I am learning AI.\n",
        "French: J'apprends l'IA.\n",
        "\n",
        "English: The weather is nice today.\n",
        "French: Le temps est agréable aujourd'hui.\n",
        "\"\"\"\n",
        "response = openai.Completion.create(\n",
        "  engine=\"davinci\",\n",
        "  prompt=few_shot_prompt,\n",
        "  max_tokens=60\n",
        ")\n",
        "print(\"Example 2: Few-shot Prompting\")\n",
        "print(response.choices[0].text.strip())"
      ]
    },
    {
      "cell_type": "markdown",
      "source": [
        "##  Example 3: Summarization\n",
        "\n",
        "#### This example demonstrates how to use the model to summarize a given text."
      ],
      "metadata": {
        "id": "Lz7k90CEICXR"
      }
    },
    {
      "cell_type": "code",
      "source": [
        "# Example 3: Summarization\n",
        "text_to_summarize = \"\"\"\n",
        "Artificial intelligence (AI) is intelligence demonstrated by machines, in contrast to the natural intelligence displayed by humans and animals. Leading AI textbooks define the field as the study of \"intelligent agents\": any device that perceives its environment and takes actions that maximize its chance of successfully achieving its goals.\n",
        "\"\"\"\n",
        "response = openai.Completion.create(\n",
        "  engine=\"davinci\",\n",
        "  prompt=\"Summarize the following text: \" + text_to_summarize,\n",
        "  max_tokens=50\n",
        ")\n",
        "print(\"Example 3: Summarization\")\n",
        "print(response.choices[0].text.strip())"
      ],
      "metadata": {
        "id": "EvNdROT-IQJ2"
      },
      "execution_count": null,
      "outputs": []
    },
    {
      "cell_type": "markdown",
      "source": [
        "## Example 4: Contextual Prompting\n",
        "\n",
        "#### This example shows how to provide additional context to the model to generate a more accurate response."
      ],
      "metadata": {
        "id": "PCChwss-ILAz"
      }
    },
    {
      "cell_type": "code",
      "source": [
        "# Example 4: Contextual Prompting\n",
        "context = \"The capital of France is Paris.\"\n",
        "response = openai.Completion.create(\n",
        "  engine=\"davinci\",\n",
        "  prompt=\"Based on the context, what is the capital of France?\",\n",
        "  max_tokens=10\n",
        ")\n",
        "print(\"Example 4: Contextual Prompting\")\n",
        "print(response.choices[0].text.strip())"
      ],
      "metadata": {
        "id": "X6rYG48lIQre"
      },
      "execution_count": null,
      "outputs": []
    },
    {
      "cell_type": "markdown",
      "source": [
        "## Example 5: Chatbot Interaction\n",
        "\n",
        "#### This example demonstrates how to create a simple chatbot interaction."
      ],
      "metadata": {
        "id": "igKxvpJqIJzB"
      }
    },
    {
      "cell_type": "code",
      "source": [
        "# Example 5: Chatbot Interaction\n",
        "response = openai.Completion.create(\n",
        "  engine=\"davinci\",\n",
        "  prompt=\"You are a helpful assistant. How can I assist you today?\",\n",
        "  max_tokens=50\n",
        ")\n",
        "print(\"Example 5: Chatbot Interaction\")\n",
        "print(response.choices[0].text.strip())"
      ],
      "metadata": {
        "id": "9Q9OcpYLIR8D"
      },
      "execution_count": null,
      "outputs": []
    }
  ]
}